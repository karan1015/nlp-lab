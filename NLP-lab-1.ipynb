{
 "cells": [
  {
   "cell_type": "code",
   "execution_count": 2,
   "metadata": {},
   "outputs": [],
   "source": [
    "import nltk"
   ]
  },
  {
   "cell_type": "code",
   "execution_count": 3,
   "metadata": {},
   "outputs": [
    {
     "name": "stdout",
     "output_type": "stream",
     "text": [
      "[nltk_data] Downloading package wordnet to\n",
      "[nltk_data]     C:\\Users\\1mscdsa15\\AppData\\Roaming\\nltk_data...\n",
      "[nltk_data]   Unzipping corpora\\wordnet.zip.\n"
     ]
    },
    {
     "data": {
      "text/plain": [
       "True"
      ]
     },
     "execution_count": 3,
     "metadata": {},
     "output_type": "execute_result"
    }
   ],
   "source": [
    "nltk.download('wordnet')"
   ]
  },
  {
   "cell_type": "code",
   "execution_count": 4,
   "metadata": {},
   "outputs": [],
   "source": [
    "text = \"This is Andrew's text, isn't it?\""
   ]
  },
  {
   "cell_type": "markdown",
   "metadata": {},
   "source": [
    "# 1. How many tokens are there if you use WhitespaceTokenizer?. Print tokens."
   ]
  },
  {
   "cell_type": "code",
   "execution_count": 5,
   "metadata": {},
   "outputs": [
    {
     "name": "stdout",
     "output_type": "stream",
     "text": [
      "6\n",
      "['This', 'is', \"Andrew's\", 'text,', \"isn't\", 'it?']\n"
     ]
    }
   ],
   "source": [
    "tokenizer = nltk.tokenize.WhitespaceTokenizer()\n",
    "tokens = tokenizer.tokenize(text)\n",
    "print(len(tokens))\n",
    "print(tokens)"
   ]
  },
  {
   "cell_type": "markdown",
   "metadata": {},
   "source": [
    "# 2. How many tokens are there if you use TreebankWordTokenizer?. Print tokens."
   ]
  },
  {
   "cell_type": "code",
   "execution_count": 6,
   "metadata": {},
   "outputs": [],
   "source": [
    "tokenizer = nltk.tokenize.TreebankWordTokenizer()"
   ]
  },
  {
   "cell_type": "code",
   "execution_count": 7,
   "metadata": {},
   "outputs": [
    {
     "name": "stdout",
     "output_type": "stream",
     "text": [
      "10\n",
      "['This', 'is', 'Andrew', \"'s\", 'text', ',', 'is', \"n't\", 'it', '?']\n"
     ]
    }
   ],
   "source": [
    "tokens = tokenizer.tokenize(text)\n",
    "print(len(tokens))\n",
    "print(tokens)"
   ]
  },
  {
   "cell_type": "markdown",
   "metadata": {},
   "source": [
    "# 3. How many tokens there are if you use WordPunctTokenizer?. Print tokens."
   ]
  },
  {
   "cell_type": "code",
   "execution_count": 8,
   "metadata": {},
   "outputs": [
    {
     "name": "stdout",
     "output_type": "stream",
     "text": [
      "12\n",
      "['This', 'is', 'Andrew', \"'\", 's', 'text', ',', 'isn', \"'\", 't', 'it', '?']\n"
     ]
    }
   ],
   "source": [
    "tokenizer = nltk.tokenize.WordPunctTokenizer()\n",
    "tokens = tokenizer.tokenize(text)\n",
    "print(len(tokens))\n",
    "print(tokens)"
   ]
  },
  {
   "cell_type": "markdown",
   "metadata": {},
   "source": [
    "# Exercise-2"
   ]
  },
  {
   "cell_type": "markdown",
   "metadata": {},
   "source": [
    "# 1. Open the file: O. Henry's The Gift of the Magi (gift-of-magi.txt)"
   ]
  },
  {
   "cell_type": "code",
   "execution_count": 14,
   "metadata": {},
   "outputs": [
    {
     "name": "stdout",
     "output_type": "stream",
     "text": [
      "One dollar and eighty-seven cents. That was all. And sixty cents of it was in pennies. Pennies saved one and two at a time by bulldozing the grocer and the vegetable man and the butcher until one's cheeks burned with the silent imputation of parsimony that such close dealing implied. Three times Della counted it. One dollar and eighty-seven cents. And the next day would be Christmas.\n",
      "\n",
      "     There was clearly nothing left to do but flop down on the shabby little couch and howl. So Della did it. Which instigates the moral reflection that life is made up of sobs, sniffles, and smiles, with sniffles predominating.\n",
      "\n",
      "     While the mistress of the home is gradually subsiding from the first stage to the second, take a look at the home. A furnished flat at $8 per week. It did not exactly beggar description, but it certainly had that word on the look-out for the mendicancy squad.\n",
      "\n",
      "     In the vestibule below was a letter-box into which no letter would go, and an electric button from which no mortal finger could coax a ring. Also appertaining thereunto was a card bearing the name \"Mr. James Dillingham Young.\"\n",
      "\n",
      "     The \"Dillingham\" had been flung to the breeze during a former period of prosperity when its possessor was being paid $30 per week. Now, when the income was shrunk to $20, the letters of \"Dillingham\" looked blurred, as though they were thinking seriously of contracting to a modest and unassuming D. But whenever Mr. James Dillingham Young came home and reached his flat above he was called \"Jim\" and greatly hugged by Mrs. James Dillingham Young, already introduced to you as Della. Which is all very good.\n",
      "\n",
      "     Della finished her cry and attended to her cheeks with the powder rag. She stood by the window and looked out dully at a grey cat walking a grey fence in a grey backyard. To-morrow would be Christmas Day, and she had only $1.87 with which to buy Jim a present. She had been saving every penny she could for months, with this result. Twenty dollars a week doesn't go far. Expenses had been greater than she had calculated. They always are. Only $1.87 to buy a present for Jim. Her Jim. Many a happy hour she had spent planning for something nice for him. Something fine and rare and sterling - something just a little bit near to being worthy of the honour of being owned by Jim.\n",
      "\n",
      "<  2  >\n",
      "\n",
      "Freestar\n",
      "     There was a pier-glass between the windows of the room. Perhaps you have seen a pier-glass in an $8 Bat. A very thin and very agile person may, by observing his reflection in a rapid sequence of longitudinal strips, obtain a fairly accurate conception of his looks. Della, being slender, had mastered the art.\n",
      "\n",
      "     Suddenly she whirled from the window and stood before the glass. Her eyes were shining brilliantly, but her face had lost its colour within twenty seconds. Rapidly she pulled down her hair and let it fall to its full length.\n",
      "\n",
      "     Now, there were two possessions of the James Dillingham Youngs in which they both took a mighty pride. One was Jim's gold watch that had been his father's and his grandfather's. The other was Della's hair. Had the Queen of Sheba lived in the flat across the airshaft, Della would have let her hair hang out of the window some day to dry just to depreciate Her Majesty's jewels and gifts. Had King Solomon been the janitor, with all his treasures piled up in the basement, Jim would have pulled out his watch every time he passed, just to see him pluck at his beard from envy.\n",
      "\n",
      "     So now Della's beautiful hair fell about her, rippling and shining like a cascade of brown waters. It reached below her knee and made itself almost a garment for her. And then she did it up again nervously and quickly. Once she faltered for a minute and stood still while a tear or two splashed on the worn red carpet.\n",
      "\n",
      "     On went her old brown jacket; on went her old brown hat. With a whirl of skirts and with the brilliant sparkle still in her eyes, she cluttered out of the door and down the stairs to the street.\n",
      "\n",
      "     Where she stopped the sign read: 'Mme Sofronie. Hair Goods of All Kinds.' One Eight up Della ran, and collected herself, panting. Madame, large, too white, chilly, hardly looked the 'Sofronie.'\n",
      "\n",
      "     \"Will you buy my hair?\" asked Della.\n",
      "\n",
      "<  3  >\n",
      "     \"I buy hair,\" said Madame. \"Take yer hat off and let's have a sight at the looks of it.\"\n",
      "\n",
      "     Down rippled the brown cascade.\n",
      "\n",
      "     \"Twenty dollars,\" said Madame, lifting the mass with a practised hand.\n",
      "\n",
      "     \"Give it to me quick\" said Della.\n",
      "\n",
      "     Oh, and the next two hours tripped by on rosy wings. Forget the hashed metaphor. She was ransacking the stores for Jim's present.\n",
      "\n",
      "     She found it at last. It surely had been made for Jim and no one else. There was no other like it in any of the stores, and she had turned all of them inside out. It was a platinum fob chain simple and chaste in design, properly proclaiming its value by substance alone and not by meretricious ornamentation - as all good things should do. It was even worthy of The Watch. As soon as she saw it she knew that it must be Jim's. It was like him. Quietness and value - the description applied to both. Twenty-one dollars they took from her for it, and she hurried home with the 78 cents. With that chain on his watch Jim might be properly anxious about the time in any company. Grand as the watch was, he sometimes looked at it on the sly on account of the old leather strap that he used in place of a chain.\n",
      "\n",
      "     When Della reached home her intoxication gave way a little to prudence and reason. She got out her curling irons and lighted the gas and went to work repairing the ravages made by generosity added to love. Which is always a tremendous task dear friends - a mammoth task.\n",
      "\n",
      "     Within forty minutes her head was covered with tiny, close-lying curls that made her look wonderfully like a truant schoolboy. She looked at her reflection in the mirror long, carefully, and critically.\n",
      "\n",
      "     \"If Jim doesn't kill me,\" she said to herself, \"before he takes a second look at me, he'll say I look like a Coney Island chorus girl. But what could I do - oh! what could I do with a dollar and eighty-seven cents?\"\n",
      "\n",
      "<  4  >\n",
      "     At 7 o'clock the coffee was made and the frying-pan was on the back of the stove hot and ready to cook the chops.\n",
      "\n",
      "     Jim was never late. Della doubled the fob chain in her hand and sat on the corner of the table near the door that he always entered. Then she heard his step on the stair away down on the first flight, and she turned white for just a moment. She had a habit of saying little silent prayers about the simplest everyday things, and now she whispered: \"Please, God, make him think I am still pretty.\"\n",
      "\n",
      "     The door opened and Jim stepped in and closed it. He looked thin and very serious. Poor fellow, he was only twenty-two - and to be burdened with a family! He needed a new overcoat and he was with out gloves.\n",
      "\n",
      "     Jim stepped inside the door, as immovable as a setter at the scent of quail. His eyes were fixed upon Della, and there was an expression in them that she could not read, and it terrified her. It was not anger, nor surprise, nor disapproval, nor horror, nor any of the sentiments that she had been prepared for. He simply stared at her fixedly with that peculiar expression on his face.\n",
      "\n",
      "     Della wriggled off the table and went for him.\n",
      "\n",
      "     \"Jim, darling,\" she cried, \"don't look at me that way. I had my hair cut off and sold it because I couldn't have lived through Christmas without giving you a present. It'll grow out again - you won't mind, will you? I just had to do it. My hair grows awfully fast. Say 'Merry Christmas!' Jim, and let's be happy. You don't know what a nice-what a beautiful, nice gift I've got for you.\"\n",
      "\n",
      "     \"You've cut off your hair?\" asked Jim, laboriously, as if he had not arrived at that patent fact yet, even after the hardest mental labour.\n",
      "\n",
      "     \"Cut it off and sold it,\" said Della. \"Don't you like me just as well, anyhow? I'm me without my hair, ain't I?\"\n",
      "\n",
      "<  5  >\n",
      "     Jim looked about the room curiously.\n",
      "\n",
      "     \"You say your hair is gone?\" he said, with an air almost of idiocy.\n",
      "\n",
      "     \"You needn't look for it,\" said Della. \"It's sold, I tell you - sold and gone, too. It's Christmas Eve, boy. Be good to me, for it went for you. Maybe the hairs of my head were numbered,\" she went on with a sudden serious sweetness, \"but nobody could ever count my love for you. Shall I put the chops on, Jim?\"\n",
      "\n",
      "     Out of his trance Jim seemed quickly to wake. He enfolded his Della. For ten seconds let us regard with discreet scrutiny some inconsequential object in the other direction. Eight dollars a week or a million a year - what is the difference? A mathematician or a wit would give you the wrong answer. The magi brought valuable gifts, but that was not among them. This dark assertion will be illuminated later on.\n",
      "\n",
      "     Jim drew a package from his overcoat pocket and threw it upon the table.\n",
      "\n",
      "     \"Don't make any mistake, Dell,\" he said, \"about me. I don't think there's anything in the way of a haircut or a shave or a shampoo that could make me like my girl any less. But if you'll unwrap that package you may see why you had me going a while at first.\"\n",
      "\n",
      "     White fingers and nimble tore at the string and paper. And then an ecstatic scream of joy; and then, alas! a quick feminine change to hysterical tears and wails, necessitating the immediate employment of all the comforting powers of the lord of the flat.\n",
      "\n",
      "     For there lay The Combs - the set of combs, side and back, that Della had worshipped for long in a Broadway window. Beautiful combs, pure tortoise-shell, with jewelled rims - just the shade to wear in the beautiful vanished hair. They were expensive combs, she knew, and her heart had simply craved and yearned over them without the least hope of possession. And now, they were hers, but the tresses that should have adorned the coveted adornments were gone.\n",
      "\n",
      "<  6  >\n",
      "     But she hugged them to her bosom, and at length she was able to look up with dim eyes and a smile and say: \"My hair grows so fast, Jim!\"\n",
      "\n",
      "     And then Della leaped up like a little singed cat and cried, \"Oh, oh!\"\n",
      "\n",
      "     Jim had not yet seen his beautiful present. She held it out to him eagerly upon her open palm. The dull precious metal seemed to {lash with a reflection of her bright and ardent spirit.\n",
      "\n",
      "     \"Isn't it a dandy, Jim? I hunted all over town to find it. You'll have to look at the time a hundred times a day now. Give me your watch. I want to see how it looks on it.\"\n",
      "\n",
      "     Instead of obeying, Jim tumbled down on the couch and put his hands under the back of his head and smiled.\n",
      "\n",
      "     \"Dell,\" said he, \"let's put our Christmas presents away and keep 'em a while. They're too nice to use just at present. I sold the watch to get the money to buy your combs. And now suppose you put the chops on.\"\n",
      "\n",
      "     The magi, as you know, were wise men - wonderfully wise men - who brought gifts to the Babe in the manger. They invented the art of giving Christmas presents. Being wise, their gifts were no doubt wise ones, possibly bearing the privilege of exchange in case of duplication. And here I have lamely related to you the uneventful chronicle of two foolish children in a flat who most unwisely sacrificed for each other the greatest treasures of their house. But in a last word to the wise of these days let it be said that of all who give gifts these two were the wisest. Of all who give and receive gifts, such as they are wisest. Everywhere they are wisest. They are the magi.\n"
     ]
    }
   ],
   "source": [
    "import re\n",
    "f = open(\"gift-of-magi.txt\", encoding='utf-8')\n",
    "con=f.read()\n",
    "print(con)"
   ]
  },
  {
   "cell_type": "markdown",
   "metadata": {},
   "source": [
    "# 2. Write a Python script to print out the following:"
   ]
  },
  {
   "cell_type": "markdown",
   "metadata": {},
   "source": [
    "# *.How many word tokens there are"
   ]
  },
  {
   "cell_type": "code",
   "execution_count": 16,
   "metadata": {},
   "outputs": [
    {
     "name": "stdout",
     "output_type": "stream",
     "text": [
      "2109\n",
      "['One', 'dollar', 'and', 'eighty-seven', 'cents.', 'That', 'was', 'all.', 'And', 'sixty', 'cents', 'of', 'it', 'was', 'in', 'pennies.', 'Pennies', 'saved', 'one', 'and', 'two', 'at', 'a', 'time', 'by', 'bulldozing', 'the', 'grocer', 'and', 'the', 'vegetable', 'man', 'and', 'the', 'butcher', 'until', \"one's\", 'cheeks', 'burned', 'with', 'the', 'silent', 'imputation', 'of', 'parsimony', 'that', 'such', 'close', 'dealing', 'implied.', 'Three', 'times', 'Della', 'counted', 'it.', 'One', 'dollar', 'and', 'eighty-seven', 'cents.', 'And', 'the', 'next', 'day', 'would', 'be', 'Christmas.', 'There', 'was', 'clearly', 'nothing', 'left', 'to', 'do', 'but', 'flop', 'down', 'on', 'the', 'shabby', 'little', 'couch', 'and', 'howl.', 'So', 'Della', 'did', 'it.', 'Which', 'instigates', 'the', 'moral', 'reflection', 'that', 'life', 'is', 'made', 'up', 'of', 'sobs,', 'sniffles,', 'and', 'smiles,', 'with', 'sniffles', 'predominating.', 'While', 'the', 'mistress', 'of', 'the', 'home', 'is', 'gradually', 'subsiding', 'from', 'the', 'first', 'stage', 'to', 'the', 'second,', 'take', 'a', 'look', 'at', 'the', 'home.', 'A', 'furnished', 'flat', 'at', '$8', 'per', 'week.', 'It', 'did', 'not', 'exactly', 'beggar', 'description,', 'but', 'it', 'certainly', 'had', 'that', 'word', 'on', 'the', 'look-out', 'for', 'the', 'mendicancy', 'squad.', 'In', 'the', 'vestibule', 'below', 'was', 'a', 'letter-box', 'into', 'which', 'no', 'letter', 'would', 'go,', 'and', 'an', 'electric', 'button', 'from', 'which', 'no', 'mortal', 'finger', 'could', 'coax', 'a', 'ring.', 'Also', 'appertaining', 'thereunto', 'was', 'a', 'card', 'bearing', 'the', 'name', '\"Mr.', 'James', 'Dillingham', 'Young.\"', 'The', '\"Dillingham\"', 'had', 'been', 'flung', 'to', 'the', 'breeze', 'during', 'a', 'former', 'period', 'of', 'prosperity', 'when', 'its', 'possessor', 'was', 'being', 'paid', '$30', 'per', 'week.', 'Now,', 'when', 'the', 'income', 'was', 'shrunk', 'to', '$20,', 'the', 'letters', 'of', '\"Dillingham\"', 'looked', 'blurred,', 'as', 'though', 'they', 'were', 'thinking', 'seriously', 'of', 'contracting', 'to', 'a', 'modest', 'and', 'unassuming', 'D.', 'But', 'whenever', 'Mr.', 'James', 'Dillingham', 'Young', 'came', 'home', 'and', 'reached', 'his', 'flat', 'above', 'he', 'was', 'called', '\"Jim\"', 'and', 'greatly', 'hugged', 'by', 'Mrs.', 'James', 'Dillingham', 'Young,', 'already', 'introduced', 'to', 'you', 'as', 'Della.', 'Which', 'is', 'all', 'very', 'good.', 'Della', 'finished', 'her', 'cry', 'and', 'attended', 'to', 'her', 'cheeks', 'with', 'the', 'powder', 'rag.', 'She', 'stood', 'by', 'the', 'window', 'and', 'looked', 'out', 'dully', 'at', 'a', 'grey', 'cat', 'walking', 'a', 'grey', 'fence', 'in', 'a', 'grey', 'backyard.', 'To-morrow', 'would', 'be', 'Christmas', 'Day,', 'and', 'she', 'had', 'only', '$1.87', 'with', 'which', 'to', 'buy', 'Jim', 'a', 'present.', 'She', 'had', 'been', 'saving', 'every', 'penny', 'she', 'could', 'for', 'months,', 'with', 'this', 'result.', 'Twenty', 'dollars', 'a', 'week', \"doesn't\", 'go', 'far.', 'Expenses', 'had', 'been', 'greater', 'than', 'she', 'had', 'calculated.', 'They', 'always', 'are.', 'Only', '$1.87', 'to', 'buy', 'a', 'present', 'for', 'Jim.', 'Her', 'Jim.', 'Many', 'a', 'happy', 'hour', 'she', 'had', 'spent', 'planning', 'for', 'something', 'nice', 'for', 'him.', 'Something', 'fine', 'and', 'rare', 'and', 'sterling', '-', 'something', 'just', 'a', 'little', 'bit', 'near', 'to', 'being', 'worthy', 'of', 'the', 'honour', 'of', 'being', 'owned', 'by', 'Jim.', '<', '2', '>', 'Freestar', 'There', 'was', 'a', 'pier-glass', 'between', 'the', 'windows', 'of', 'the', 'room.', 'Perhaps', 'you', 'have', 'seen', 'a', 'pier-glass', 'in', 'an', '$8', 'Bat.', 'A', 'very', 'thin', 'and', 'very', 'agile', 'person', 'may,', 'by', 'observing', 'his', 'reflection', 'in', 'a', 'rapid', 'sequence', 'of', 'longitudinal', 'strips,', 'obtain', 'a', 'fairly', 'accurate', 'conception', 'of', 'his', 'looks.', 'Della,', 'being', 'slender,', 'had', 'mastered', 'the', 'art.', 'Suddenly', 'she', 'whirled', 'from', 'the', 'window', 'and', 'stood', 'before', 'the', 'glass.', 'Her', 'eyes', 'were', 'shining', 'brilliantly,', 'but', 'her', 'face', 'had', 'lost', 'its', 'colour', 'within', 'twenty', 'seconds.', 'Rapidly', 'she', 'pulled', 'down', 'her', 'hair', 'and', 'let', 'it', 'fall', 'to', 'its', 'full', 'length.', 'Now,', 'there', 'were', 'two', 'possessions', 'of', 'the', 'James', 'Dillingham', 'Youngs', 'in', 'which', 'they', 'both', 'took', 'a', 'mighty', 'pride.', 'One', 'was', \"Jim's\", 'gold', 'watch', 'that', 'had', 'been', 'his', \"father's\", 'and', 'his', \"grandfather's.\", 'The', 'other', 'was', \"Della's\", 'hair.', 'Had', 'the', 'Queen', 'of', 'Sheba', 'lived', 'in', 'the', 'flat', 'across', 'the', 'airshaft,', 'Della', 'would', 'have', 'let', 'her', 'hair', 'hang', 'out', 'of', 'the', 'window', 'some', 'day', 'to', 'dry', 'just', 'to', 'depreciate', 'Her', \"Majesty's\", 'jewels', 'and', 'gifts.', 'Had', 'King', 'Solomon', 'been', 'the', 'janitor,', 'with', 'all', 'his', 'treasures', 'piled', 'up', 'in', 'the', 'basement,', 'Jim', 'would', 'have', 'pulled', 'out', 'his', 'watch', 'every', 'time', 'he', 'passed,', 'just', 'to', 'see', 'him', 'pluck', 'at', 'his', 'beard', 'from', 'envy.', 'So', 'now', \"Della's\", 'beautiful', 'hair', 'fell', 'about', 'her,', 'rippling', 'and', 'shining', 'like', 'a', 'cascade', 'of', 'brown', 'waters.', 'It', 'reached', 'below', 'her', 'knee', 'and', 'made', 'itself', 'almost', 'a', 'garment', 'for', 'her.', 'And', 'then', 'she', 'did', 'it', 'up', 'again', 'nervously', 'and', 'quickly.', 'Once', 'she', 'faltered', 'for', 'a', 'minute', 'and', 'stood', 'still', 'while', 'a', 'tear', 'or', 'two', 'splashed', 'on', 'the', 'worn', 'red', 'carpet.', 'On', 'went', 'her', 'old', 'brown', 'jacket;', 'on', 'went', 'her', 'old', 'brown', 'hat.', 'With', 'a', 'whirl', 'of', 'skirts', 'and', 'with', 'the', 'brilliant', 'sparkle', 'still', 'in', 'her', 'eyes,', 'she', 'cluttered', 'out', 'of', 'the', 'door', 'and', 'down', 'the', 'stairs', 'to', 'the', 'street.', 'Where', 'she', 'stopped', 'the', 'sign', 'read:', \"'Mme\", 'Sofronie.', 'Hair', 'Goods', 'of', 'All', \"Kinds.'\", 'One', 'Eight', 'up', 'Della', 'ran,', 'and', 'collected', 'herself,', 'panting.', 'Madame,', 'large,', 'too', 'white,', 'chilly,', 'hardly', 'looked', 'the', \"'Sofronie.'\", '\"Will', 'you', 'buy', 'my', 'hair?\"', 'asked', 'Della.', '<', '3', '>', '\"I', 'buy', 'hair,\"', 'said', 'Madame.', '\"Take', 'yer', 'hat', 'off', 'and', \"let's\", 'have', 'a', 'sight', 'at', 'the', 'looks', 'of', 'it.\"', 'Down', 'rippled', 'the', 'brown', 'cascade.', '\"Twenty', 'dollars,\"', 'said', 'Madame,', 'lifting', 'the', 'mass', 'with', 'a', 'practised', 'hand.', '\"Give', 'it', 'to', 'me', 'quick\"', 'said', 'Della.', 'Oh,', 'and', 'the', 'next', 'two', 'hours', 'tripped', 'by', 'on', 'rosy', 'wings.', 'Forget', 'the', 'hashed', 'metaphor.', 'She', 'was', 'ransacking', 'the', 'stores', 'for', \"Jim's\", 'present.', 'She', 'found', 'it', 'at', 'last.', 'It', 'surely', 'had', 'been', 'made', 'for', 'Jim', 'and', 'no', 'one', 'else.', 'There', 'was', 'no', 'other', 'like', 'it', 'in', 'any', 'of', 'the', 'stores,', 'and', 'she', 'had', 'turned', 'all', 'of', 'them', 'inside', 'out.', 'It', 'was', 'a', 'platinum', 'fob', 'chain', 'simple', 'and', 'chaste', 'in', 'design,', 'properly', 'proclaiming', 'its', 'value', 'by', 'substance', 'alone', 'and', 'not', 'by', 'meretricious', 'ornamentation', '-', 'as', 'all', 'good', 'things', 'should', 'do.', 'It', 'was', 'even', 'worthy', 'of', 'The', 'Watch.', 'As', 'soon', 'as', 'she', 'saw', 'it', 'she', 'knew', 'that', 'it', 'must', 'be', \"Jim's.\", 'It', 'was', 'like', 'him.', 'Quietness', 'and', 'value', '-', 'the', 'description', 'applied', 'to', 'both.', 'Twenty-one', 'dollars', 'they', 'took', 'from', 'her', 'for', 'it,', 'and', 'she', 'hurried', 'home', 'with', 'the', '78', 'cents.', 'With', 'that', 'chain', 'on', 'his', 'watch', 'Jim', 'might', 'be', 'properly', 'anxious', 'about', 'the', 'time', 'in', 'any', 'company.', 'Grand', 'as', 'the', 'watch', 'was,', 'he', 'sometimes', 'looked', 'at', 'it', 'on', 'the', 'sly', 'on', 'account', 'of', 'the', 'old', 'leather', 'strap', 'that', 'he', 'used', 'in', 'place', 'of', 'a', 'chain.', 'When', 'Della', 'reached', 'home', 'her', 'intoxication', 'gave', 'way', 'a', 'little', 'to', 'prudence', 'and', 'reason.', 'She', 'got', 'out', 'her', 'curling', 'irons', 'and', 'lighted', 'the', 'gas', 'and', 'went', 'to', 'work', 'repairing', 'the', 'ravages', 'made', 'by', 'generosity', 'added', 'to', 'love.', 'Which', 'is', 'always', 'a', 'tremendous', 'task', 'dear', 'friends', '-', 'a', 'mammoth', 'task.', 'Within', 'forty', 'minutes', 'her', 'head', 'was', 'covered', 'with', 'tiny,', 'close-lying', 'curls', 'that', 'made', 'her', 'look', 'wonderfully', 'like', 'a', 'truant', 'schoolboy.', 'She', 'looked', 'at', 'her', 'reflection', 'in', 'the', 'mirror', 'long,', 'carefully,', 'and', 'critically.', '\"If', 'Jim', \"doesn't\", 'kill', 'me,\"', 'she', 'said', 'to', 'herself,', '\"before', 'he', 'takes', 'a', 'second', 'look', 'at', 'me,', \"he'll\", 'say', 'I', 'look', 'like', 'a', 'Coney', 'Island', 'chorus', 'girl.', 'But', 'what', 'could', 'I', 'do', '-', 'oh!', 'what', 'could', 'I', 'do', 'with', 'a', 'dollar', 'and', 'eighty-seven', 'cents?\"', '<', '4', '>', 'At', '7', \"o'clock\", 'the', 'coffee', 'was', 'made', 'and', 'the', 'frying-pan', 'was', 'on', 'the', 'back', 'of', 'the', 'stove', 'hot', 'and', 'ready', 'to', 'cook', 'the', 'chops.', 'Jim', 'was', 'never', 'late.', 'Della', 'doubled', 'the', 'fob', 'chain', 'in', 'her', 'hand', 'and', 'sat', 'on', 'the', 'corner', 'of', 'the', 'table', 'near', 'the', 'door', 'that', 'he', 'always', 'entered.', 'Then', 'she', 'heard', 'his', 'step', 'on', 'the', 'stair', 'away', 'down', 'on', 'the', 'first', 'flight,', 'and', 'she', 'turned', 'white', 'for', 'just', 'a', 'moment.', 'She', 'had', 'a', 'habit', 'of', 'saying', 'little', 'silent', 'prayers', 'about', 'the', 'simplest', 'everyday', 'things,', 'and', 'now', 'she', 'whispered:', '\"Please,', 'God,', 'make', 'him', 'think', 'I', 'am', 'still', 'pretty.\"', 'The', 'door', 'opened', 'and', 'Jim', 'stepped', 'in', 'and', 'closed', 'it.', 'He', 'looked', 'thin', 'and', 'very', 'serious.', 'Poor', 'fellow,', 'he', 'was', 'only', 'twenty-two', '-', 'and', 'to', 'be', 'burdened', 'with', 'a', 'family!', 'He', 'needed', 'a', 'new', 'overcoat', 'and', 'he', 'was', 'with', 'out', 'gloves.', 'Jim', 'stepped', 'inside', 'the', 'door,', 'as', 'immovable', 'as', 'a', 'setter', 'at', 'the', 'scent', 'of', 'quail.', 'His', 'eyes', 'were', 'fixed', 'upon', 'Della,', 'and', 'there', 'was', 'an', 'expression', 'in', 'them', 'that', 'she', 'could', 'not', 'read,', 'and', 'it', 'terrified', 'her.', 'It', 'was', 'not', 'anger,', 'nor', 'surprise,', 'nor', 'disapproval,', 'nor', 'horror,', 'nor', 'any', 'of', 'the', 'sentiments', 'that', 'she', 'had', 'been', 'prepared', 'for.', 'He', 'simply', 'stared', 'at', 'her', 'fixedly', 'with', 'that', 'peculiar', 'expression', 'on', 'his', 'face.', 'Della', 'wriggled', 'off', 'the', 'table', 'and', 'went', 'for', 'him.', '\"Jim,', 'darling,\"', 'she', 'cried,', '\"don\\'t', 'look', 'at', 'me', 'that', 'way.', 'I', 'had', 'my', 'hair', 'cut', 'off', 'and', 'sold', 'it', 'because', 'I', \"couldn't\", 'have', 'lived', 'through', 'Christmas', 'without', 'giving', 'you', 'a', 'present.', \"It'll\", 'grow', 'out', 'again', '-', 'you', \"won't\", 'mind,', 'will', 'you?', 'I', 'just', 'had', 'to', 'do', 'it.', 'My', 'hair', 'grows', 'awfully', 'fast.', 'Say', \"'Merry\", \"Christmas!'\", 'Jim,', 'and', \"let's\", 'be', 'happy.', 'You', \"don't\", 'know', 'what', 'a', 'nice-what', 'a', 'beautiful,', 'nice', 'gift', \"I've\", 'got', 'for', 'you.\"', '\"You\\'ve', 'cut', 'off', 'your', 'hair?\"', 'asked', 'Jim,', 'laboriously,', 'as', 'if', 'he', 'had', 'not', 'arrived', 'at', 'that', 'patent', 'fact', 'yet,', 'even', 'after', 'the', 'hardest', 'mental', 'labour.', '\"Cut', 'it', 'off', 'and', 'sold', 'it,\"', 'said', 'Della.', '\"Don\\'t', 'you', 'like', 'me', 'just', 'as', 'well,', 'anyhow?', \"I'm\", 'me', 'without', 'my', 'hair,', \"ain't\", 'I?\"', '<', '5', '>', 'Jim', 'looked', 'about', 'the', 'room', 'curiously.', '\"You', 'say', 'your', 'hair', 'is', 'gone?\"', 'he', 'said,', 'with', 'an', 'air', 'almost', 'of', 'idiocy.', '\"You', \"needn't\", 'look', 'for', 'it,\"', 'said', 'Della.', '\"It\\'s', 'sold,', 'I', 'tell', 'you', '-', 'sold', 'and', 'gone,', 'too.', \"It's\", 'Christmas', 'Eve,', 'boy.', 'Be', 'good', 'to', 'me,', 'for', 'it', 'went', 'for', 'you.', 'Maybe', 'the', 'hairs', 'of', 'my', 'head', 'were', 'numbered,\"', 'she', 'went', 'on', 'with', 'a', 'sudden', 'serious', 'sweetness,', '\"but', 'nobody', 'could', 'ever', 'count', 'my', 'love', 'for', 'you.', 'Shall', 'I', 'put', 'the', 'chops', 'on,', 'Jim?\"', 'Out', 'of', 'his', 'trance', 'Jim', 'seemed', 'quickly', 'to', 'wake.', 'He', 'enfolded', 'his', 'Della.', 'For', 'ten', 'seconds', 'let', 'us', 'regard', 'with', 'discreet', 'scrutiny', 'some', 'inconsequential', 'object', 'in', 'the', 'other', 'direction.', 'Eight', 'dollars', 'a', 'week', 'or', 'a', 'million', 'a', 'year', '-', 'what', 'is', 'the', 'difference?', 'A', 'mathematician', 'or', 'a', 'wit', 'would', 'give', 'you', 'the', 'wrong', 'answer.', 'The', 'magi', 'brought', 'valuable', 'gifts,', 'but', 'that', 'was', 'not', 'among', 'them.', 'This', 'dark', 'assertion', 'will', 'be', 'illuminated', 'later', 'on.', 'Jim', 'drew', 'a', 'package', 'from', 'his', 'overcoat', 'pocket', 'and', 'threw', 'it', 'upon', 'the', 'table.', '\"Don\\'t', 'make', 'any', 'mistake,', 'Dell,\"', 'he', 'said,', '\"about', 'me.', 'I', \"don't\", 'think', \"there's\", 'anything', 'in', 'the', 'way', 'of', 'a', 'haircut', 'or', 'a', 'shave', 'or', 'a', 'shampoo', 'that', 'could', 'make', 'me', 'like', 'my', 'girl', 'any', 'less.', 'But', 'if', \"you'll\", 'unwrap', 'that', 'package', 'you', 'may', 'see', 'why', 'you', 'had', 'me', 'going', 'a', 'while', 'at', 'first.\"', 'White', 'fingers', 'and', 'nimble', 'tore', 'at', 'the', 'string', 'and', 'paper.', 'And', 'then', 'an', 'ecstatic', 'scream', 'of', 'joy;', 'and', 'then,', 'alas!', 'a', 'quick', 'feminine', 'change', 'to', 'hysterical', 'tears', 'and', 'wails,', 'necessitating', 'the', 'immediate', 'employment', 'of', 'all', 'the', 'comforting', 'powers', 'of', 'the', 'lord', 'of', 'the', 'flat.', 'For', 'there', 'lay', 'The', 'Combs', '-', 'the', 'set', 'of', 'combs,', 'side', 'and', 'back,', 'that', 'Della', 'had', 'worshipped', 'for', 'long', 'in', 'a', 'Broadway', 'window.', 'Beautiful', 'combs,', 'pure', 'tortoise-shell,', 'with', 'jewelled', 'rims', '-', 'just', 'the', 'shade', 'to', 'wear', 'in', 'the', 'beautiful', 'vanished', 'hair.', 'They', 'were', 'expensive', 'combs,', 'she', 'knew,', 'and', 'her', 'heart', 'had', 'simply', 'craved', 'and', 'yearned', 'over', 'them', 'without', 'the', 'least', 'hope', 'of', 'possession.', 'And', 'now,', 'they', 'were', 'hers,', 'but', 'the', 'tresses', 'that', 'should', 'have', 'adorned', 'the', 'coveted', 'adornments', 'were', 'gone.', '<', '6', '>', 'But', 'she', 'hugged', 'them', 'to', 'her', 'bosom,', 'and', 'at', 'length', 'she', 'was', 'able', 'to', 'look', 'up', 'with', 'dim', 'eyes', 'and', 'a', 'smile', 'and', 'say:', '\"My', 'hair', 'grows', 'so', 'fast,', 'Jim!\"', 'And', 'then', 'Della', 'leaped', 'up', 'like', 'a', 'little', 'singed', 'cat', 'and', 'cried,', '\"Oh,', 'oh!\"', 'Jim', 'had', 'not', 'yet', 'seen', 'his', 'beautiful', 'present.', 'She', 'held', 'it', 'out', 'to', 'him', 'eagerly', 'upon', 'her', 'open', 'palm.', 'The', 'dull', 'precious', 'metal', 'seemed', 'to', '{lash', 'with', 'a', 'reflection', 'of', 'her', 'bright', 'and', 'ardent', 'spirit.', '\"Isn\\'t', 'it', 'a', 'dandy,', 'Jim?', 'I', 'hunted', 'all', 'over', 'town', 'to', 'find', 'it.', \"You'll\", 'have', 'to', 'look', 'at', 'the', 'time', 'a', 'hundred', 'times', 'a', 'day', 'now.', 'Give', 'me', 'your', 'watch.', 'I', 'want', 'to', 'see', 'how', 'it', 'looks', 'on', 'it.\"', 'Instead', 'of', 'obeying,', 'Jim', 'tumbled', 'down', 'on', 'the', 'couch', 'and', 'put', 'his', 'hands', 'under', 'the', 'back', 'of', 'his', 'head', 'and', 'smiled.', '\"Dell,\"', 'said', 'he,', '\"let\\'s', 'put', 'our', 'Christmas', 'presents', 'away', 'and', 'keep', \"'em\", 'a', 'while.', \"They're\", 'too', 'nice', 'to', 'use', 'just', 'at', 'present.', 'I', 'sold', 'the', 'watch', 'to', 'get', 'the', 'money', 'to', 'buy', 'your', 'combs.', 'And', 'now', 'suppose', 'you', 'put', 'the', 'chops', 'on.\"', 'The', 'magi,', 'as', 'you', 'know,', 'were', 'wise', 'men', '-', 'wonderfully', 'wise', 'men', '-', 'who', 'brought', 'gifts', 'to', 'the', 'Babe', 'in', 'the', 'manger.', 'They', 'invented', 'the', 'art', 'of', 'giving', 'Christmas', 'presents.', 'Being', 'wise,', 'their', 'gifts', 'were', 'no', 'doubt', 'wise', 'ones,', 'possibly', 'bearing', 'the', 'privilege', 'of', 'exchange', 'in', 'case', 'of', 'duplication.', 'And', 'here', 'I', 'have', 'lamely', 'related', 'to', 'you', 'the', 'uneventful', 'chronicle', 'of', 'two', 'foolish', 'children', 'in', 'a', 'flat', 'who', 'most', 'unwisely', 'sacrificed', 'for', 'each', 'other', 'the', 'greatest', 'treasures', 'of', 'their', 'house.', 'But', 'in', 'a', 'last', 'word', 'to', 'the', 'wise', 'of', 'these', 'days', 'let', 'it', 'be', 'said', 'that', 'of', 'all', 'who', 'give', 'gifts', 'these', 'two', 'were', 'the', 'wisest.', 'Of', 'all', 'who', 'give', 'and', 'receive', 'gifts,', 'such', 'as', 'they', 'are', 'wisest.', 'Everywhere', 'they', 'are', 'wisest.', 'They', 'are', 'the', 'magi.']\n"
     ]
    }
   ],
   "source": [
    "tokenizer = nltk.tokenize.WhitespaceTokenizer() \n",
    "tokens = tokenizer.tokenize(con) \n",
    "print(len(tokens)) \n",
    "print(tokens)"
   ]
  },
  {
   "cell_type": "markdown",
   "metadata": {},
   "source": [
    "# How many word types there are, (word types are a unique set of words)"
   ]
  },
  {
   "cell_type": "code",
   "execution_count": 27,
   "metadata": {},
   "outputs": [
    {
     "name": "stdout",
     "output_type": "stream",
     "text": [
      "{'prayers', 'janitor', 'finished', 'family', 'direction', 'oh', 'leather', 'corner', 'collected', '1', 'these', 'receive', 'love', 'ready', 'hair', 'box', 'gone', 'chilly', 'smile', 'skirts', 'difference', 'bat', 'burned', 'metaphor', 'needed', 'stage', 'gift', 'here', 'fairly', 'irons', 'worshipped', 'men', 'see', 'of', 'won', 'any', 'keep', 'serious', 'depreciate', 'brilliantly', 'off', 'fast', 'assertion', '30', 'conception', 'such', 'pulled', 'friends', 'hundred', 'whenever', 'jewels', 'through', 'tiny', 'shall', 'longitudinal', 'flop', 'came', 'very', 'there', 'grey', 'chorus', 'able', 'buy', 'joy', 'chronicle', 'man', 'd', 'might', 'what', 'fence', 'dollars', 'package', 'minutes', 'illuminated', 'platinum', 've', 'll', 'airshaft', 'them', 'please', 'properly', 'dell', 'count', 'certainly', '4', '8', 'isn', 'each', 'squad', 'are', 'father', 'basement', 'had', 'shining', 'nobody', 'greatly', 'exactly', 'am', 'anything', 'exchange', 'cents', 'fell', 'whirl', 'horror', 'why', 'appertaining', 'below', 'then', 'combs', 'into', 'as', 'between', 'regard', 'used', 'value', 'lamely', 'task', 'girl', 'open', 'shell', 'gradually', 'may', 'flight', 'honour', 'cut', 'mortal', 'two', 'dollar', 'clock', 'em', 'first', 'wisest', 'while', 'full', 'mind', 'hot', 'reason', 'dillingham', 'rippled', 'both', 'little', 'got', 'find', 'cry', 'dark', 'comforting', 'introduced', 'went', 'mental', 'mrs', 'scream', '2', 'schoolboy', 'period', 'before', 'fact', 'suddenly', 'grow', 'hurried', 'arrived', 'pretty', 'know', 'chops', 'hashed', 'worn', 'takes', 'seemed', 'simply', 'whirled', 'our', 'fellow', 'word', 'surely', 'fob', 'sequence', 'things', 'hairs', 'do', 'don', 'above', 'wake', 'reflection', 'over', 'held', 'seriously', 'hat', 'valuable', 'spent', 'rosy', 'shrunk', '87', 'bosom', 'unwrap', 'eve', 'cascade', 'obeying', 'which', 'finger', 'planning', 'greatest', 'soon', 's', 'herself', 'be', 'watch', 'ornamentation', 'fixedly', 'uneventful', 'hardest', 'rippling', 'across', 'and', 'moment', 'lay', 'account', 'possession', 'late', 'everywhere', 'three', 'card', 'employment', 'lighted', 't', '3', 'wonderfully', 'penny', 'itself', 'always', '78', 'fall', 'panting', 'curiously', 'found', 'near', 'mighty', 'he', 'yer', 'hang', 'in', 'wit', 'smiles', 'james', 'long', 'seconds', 'looks', 'took', 'ransacking', 'colour', 'fingers', 'sat', 'just', 'upon', 'imputation', 'but', 'faltered', 'tell', 'least', 'use', 'at', 'god', 'reached', 'months', 'habit', 'letters', 'contracting', 'possessions', 'substance', 'closed', 'feminine', 'way', 'goods', 'person', 'stairs', 'nice', 'after', 'stove', 'simplest', 'times', 'disapproval', 'former', 'immovable', 'quickly', 'prudence', 'boy', 'nimble', 'silent', 'dear', 'good', 'sold', 'furnished', 'vestibule', 'during', 'brought', 'howl', 'down', 'quietness', 'expensive', 'place', 'lying', 'year', 'glass', 'repairing', 'mathematician', 'ring', 'their', 'prosperity', 'with', 'say', 'opened', 'change', 'take', 'carefully', 'well', 'sweetness', 'could', 'dully', 'second', 'precious', 'observing', 'idiocy', 'knee', 'from', 'everyday', 'made', 'income', 'burdened', 'fine', 'read', 'side', 'pan', 'mendicancy', 'up', 'covered', 'gave', 'trance', 'sentiments', 'saying', 'gloves', 're', 'cheeks', 'mistress', 'description', 'jacket', 'pluck', 'haircut', 'modest', 'that', 'implied', 'string', 'palm', 'metal', 'they', 'merry', 'alas', 'garment', 'give', 'most', 'time', 'sobs', 'put', 'sudden', 'owned', 'stood', 'tear', 'because', 'laboriously', 'maybe', 'this', 'wear', 'craved', 'window', 'hers', 'wrong', 'beautiful', 'numbered', 'you', 'said', 'strap', 'pier', 'mass', 'scent', 'far', 'doubled', 'eight', 'meretricious', 'ain', 'forty', 'gas', 'company', 'coveted', 'singed', 'subsiding', 'powers', 'tresses', 'young', 'm', 'dim', 'babe', 'overcoat', 'mirror', 'enfolded', 'possessor', 'mammoth', 'doubt', 'want', 'grocer', 'many', 'him', 'get', 'carpet', 'immediate', 'simple', 'peculiar', 'for', 'per', 'yet', 'lost', 'yearned', 'money', 'dandy', 'intoxication', 'else', 'brown', 'adorned', 'truant', 'an', 'even', 'children', 'passed', 'prepared', 'i', 'breeze', 'christmas', 'quick', 'called', 'shampoo', 'about', 'predominating', 'happy', 'old', 'brilliant', 'work', 'instigates', 'windows', 'obtain', 'days', 'like', 'frying', 'possibly', 'mme', 'jim', 'foolish', 'turned', 'room', 'lived', 'town', 'been', 'my', 'cluttered', 'cat', 'hysterical', 'freestar', 'invented', 'moral', 'were', 'is', 'doesn', '7', 'already', 'anxious', 'once', 'her', 'labour', 'bright', 'kill', 'lord', 'a', 'rapidly', 'saving', 'she', 'next', 'accurate', 'home', 'curling', 'grows', 'related', 'street', 'sofronie', 'me', 'tore', 'adornments', 'youngs', 'thin', 'only', 'dry', 'flat', 'hand', 'tortoise', 'tremendous', 'heart', 'was', 'other', 'hours', 'large', 'whispered', 'electric', 'backyard', 'presents', 'inside', 'queen', 'terrified', 'twenty', 'sixty', 'nothing', 'left', 'unwisely', 'looked', 'button', 'not', 'piled', 'suppose', 'broadway', 'almost', 'set', 'some', 'parsimony', 'beard', 'sight', 'on', 'stores', 'hugged', '5', 'wails', 'mastered', 'wise', 'della', 'or', 'result', 'vegetable', 'seen', 'design', 'knew', 'step', 'thinking', 'rare', 'where', 'alone', 'if', 'pure', 'shade', 'poor', 'patent', 'without', 'bearing', 'later', 'thereunto', 'tripped', 'agile', 'scrutiny', 'sly', 'make', 'couldn', '6', 'when', 'sheba', 'darling', 'smiled', 'ever', 'forget', 'discreet', 'flung', 'shave', 'so', 'quail', 'face', 'rag', 'all', 'saw', 'length', 'nor', 'bit', 'by', 'eighty', 'eyes', 'nervously', 'hunted', 'applied', 'dealing', 'back', 'lifting', 'saved', 'ecstatic', 'critically', '20', 'red', 'kinds', 'how', 'powder', 'letter', 'coax', 'clearly', 'jewelled', 'us', 'now', 'sometimes', 'privilege', 'the', 'sacrificed', 'million', 'curls', 'lash', 'island', 'strips', 'sign', 'hands', 'hope', 'pocket', 'out', 'manger', 'did', 'every', 'heard', 'wriggled', 'again', 'minute', 'who', 'duplication', 'worthy', 'magi', 'necessitating', 'king', 'think', 'too', 'grand', 'go', 'mr', 'it', 'head', 'week', 'within', 'being', 'white', 'your', 'paper', 'house', 'rims', 'door', 'pride', 'less', 'splashed', 'close', 'should', 'table', 'envy', 'paid', 'answer', 'gold', 'vanished', 'mistake', 'grandfather', 'air', 'look', 'than', 'ones', 'let', 'stopped', 'day', 'shabby', 'expenses', 'rapid', 'expression', 'have', 'greater', 'seven', 'sterling', 'tumbled', 'chaste', 'morrow', 'chain', 'giving', 'coney', 'ravages', 'name', 'though', 'wings', 'coffee', 'drew', 'ardent', 'no', 'solomon', 'will', 'sniffles', 'stared', 'leaped', 'under', 'attended', 'instead', 'also', 'spirit', 'to', 'hardly', 'proclaiming', 'dull', 'present', 'surprise', 'tears', 'counted', 'ran', 'last', 'life', 'hour', 'cook', 'pennies', 'case', 'never', 'treasures', 'calculated', 'butcher', 'new', 'inconsequential', 'art', 'beggar', 'anyhow', 'sparkle', 'waters', 'asked', 'going', 'among', 'unassuming', 'o', 'added', 'stair', 'slender', 'setter', 'couch', 'awfully', 'until', 'would', 'fixed', 'his', 'anger', 'eagerly', 'majesty', 'one', 'cried', 'gifts', 'needn', 'entered', 'ten', 'must', 'something', 'walking', 'still', 'perhaps', 'generosity', 'object', 'away', 'stepped', 'its', 'blurred', 'threw', 'practised', 'bulldozing', 'madame'}\n"
     ]
    }
   ],
   "source": [
    "import re \n",
    " \n",
    "filename = \"gift-of-magi.txt\" \n",
    "regex = re.compile(r\"[\\W_]\") \n",
    "unique_words = set() \n",
    "with open(filename, mode='r', encoding='utf-8') as infile: \n",
    "        for line in infile: \n",
    "            line = line.rstrip('\\n') \n",
    "            words = regex.split(line) \n",
    "            for w in words: \n",
    "                if w != \"\": \n",
    "                    w = w.lower() \n",
    "                    unique_words.add(w) \n",
    " \n",
    "print(unique_words) "
   ]
  },
  {
   "cell_type": "markdown",
   "metadata": {},
   "source": [
    "# top 20 most frequent word and their count"
   ]
  },
  {
   "cell_type": "code",
   "execution_count": 33,
   "metadata": {},
   "outputs": [],
   "source": [
    "file = open(\"gift-of-magi.txt\",\"r\") \n",
    "frequent_word = \"\" \n",
    "frequency = 0  \n",
    "words = [] "
   ]
  },
  {
   "cell_type": "code",
   "execution_count": 34,
   "metadata": {},
   "outputs": [],
   "source": [
    "for line in file:\n",
    "    line_word = line.lower().replace(',','').replace('.','').split(\" \");\n",
    "    for w in line_word:   \n",
    "        words.append(w);"
   ]
  },
  {
   "cell_type": "code",
   "execution_count": 35,
   "metadata": {},
   "outputs": [],
   "source": [
    "for i in range(0, len(words)):\n",
    "    count = 1; "
   ]
  },
  {
   "cell_type": "code",
   "execution_count": 36,
   "metadata": {},
   "outputs": [],
   "source": [
    "for j in range(i+1, len(words)):   \n",
    "        if(words[i] == words[j]):   \n",
    "            count = count + 1;"
   ]
  },
  {
   "cell_type": "code",
   "execution_count": 37,
   "metadata": {},
   "outputs": [],
   "source": [
    "if(count > frequency):   \n",
    "        frequency = count;   \n",
    "        frequent_word = words[i];"
   ]
  },
  {
   "cell_type": "code",
   "execution_count": 38,
   "metadata": {},
   "outputs": [
    {
     "name": "stdout",
     "output_type": "stream",
     "text": [
      "Most repeated word: magi\n",
      "Frequency: 1\n"
     ]
    }
   ],
   "source": [
    "print(\"Most repeated word: \" + frequent_word) \n",
    "print(\"Frequency: \" + str(frequency)) \n",
    "file.close(); "
   ]
  },
  {
   "cell_type": "code",
   "execution_count": 44,
   "metadata": {},
   "outputs": [
    {
     "name": "stdout",
     "output_type": "stream",
     "text": [
      "Most repeated word: \n"
     ]
    }
   ],
   "source": [
    "count = 0;  \n",
    "word = \"\";  \n",
    "maxCount = 0;  \n",
    "words = [];  \n",
    "   \n",
    "#Opens a file in read mode  \n",
    "file = open(\"gift-of-magi.txt\", \"r\")  \n",
    "      \n",
    "#Gets each line till end of file is reached  \n",
    "for line in file:  \n",
    "    #Splits each line into words  \n",
    "    string = line.lower().replace(',','').replace('.','').split(\" \");  \n",
    "    #Adding all words generated in previous step into words  \n",
    "    for s in string:  \n",
    "        words.append(s);  \n",
    "   \n",
    "#Determine the most repeated word in a file  \n",
    "for i in range(0, len(words)):  \n",
    "    count = 1;  \n",
    "    #Count each word in the file and store it in variable count  \n",
    "    for j in range(i+1, len(words)):  \n",
    "        if(words[i] == words[j]):  \n",
    "            count = count + 1;  \n",
    "              \n",
    "    #If maxCount is less than count then store value of count in maxCount  \n",
    "    #and corresponding word to variable word  \n",
    "    if(count > maxCount):  \n",
    "        maxCount = count;  \n",
    "        word = words[i];  \n",
    "          \n",
    "print(\"Most repeated word: \" + word);  \n",
    "file.close(); "
   ]
  },
  {
   "cell_type": "code",
   "execution_count": null,
   "metadata": {},
   "outputs": [],
   "source": []
  }
 ],
 "metadata": {
  "kernelspec": {
   "display_name": "Python 3",
   "language": "python",
   "name": "python3"
  },
  "language_info": {
   "codemirror_mode": {
    "name": "ipython",
    "version": 3
   },
   "file_extension": ".py",
   "mimetype": "text/x-python",
   "name": "python",
   "nbconvert_exporter": "python",
   "pygments_lexer": "ipython3",
   "version": "3.6.4"
  }
 },
 "nbformat": 4,
 "nbformat_minor": 2
}
